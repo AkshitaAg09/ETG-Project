{
  "nbformat": 4,
  "nbformat_minor": 0,
  "metadata": {
    "colab": {
      "name": "Untitled3.ipynb",
      "provenance": []
    },
    "kernelspec": {
      "name": "python3",
      "display_name": "Python 3"
    },
    "language_info": {
      "name": "python"
    }
  },
  "cells": [
    {
      "cell_type": "code",
      "metadata": {
        "id": "1xuBeNM-F2Ey"
      },
      "source": [
        "\n",
        "record = { 10202101 : {\"Product\": \"White Bread\" , \"Quantity\": 8, \"Weight\" : 200, \"Price\" : 30, \"Exp Date\" : 10/11/2022},\n",
        "           10202102 : {\"Product\": \"Brown Bread\" , \"Quantity\": 8, \"Weight\" : 200, \"Price\" : 50, \"Exp Date\" : 2/1/2021},\n",
        "           10202103 : {\"Product\": \"Yogurt\" , \"Quantity\": 15, \"Weight\" : 100, \"Price\" : 182, \"Exp Date\" : 12/8/2022},\n",
        "           10202104 : {\"Product\": \"Milk\" , \"Quantity\": 39, \"Weight\" : 500, \"Price\" : 60, \"Exp Date\" : 6/12/2021},\n",
        "           10202105 : {\"Product\": \"Cheese\" , \"Quantity\": 11, \"Weight\" : 100, \"Price\" : 200, \"Exp Date\" : 1/6/2021},\n",
        "           10202106 : {\"Product\": \"Tomato Ketchup\" , \"Quantity\": 26, \"Weight\" : 100, \"Price\" : 183, \"Exp Date\" : 3/6/2021},\n",
        "           10202107 : {\"Product\": \"Chilli Sauce\" , \"Quantity\": 9, \"Weight\" : 100, \"Price\" : 177, \"Exp Date\" : 11/8/2022},\n",
        "           10202108 : {\"Product\": \"Butter Milk Powder\" , \"Quantity\": 6, \"Weight\" : 25, \"Price\" : 66, \"Exp Date\" : 1/3/2022},\n",
        "           10202109 : {\"Product\": \"Cornstarch\" , \"Quantity\": 9, \"Weight\" : 25, \"Price\" : 70, \"Exp Date\" : 8/12/2021},\n",
        "           10202110 : {\"Product\": \"Cornmeal\" , \"Quantity\": 7, \"Weight\" : 100, \"Price\" : 80, \"Exp Date\" : 10/7/2022},\n",
        "           10202111 : {\"Product\": \"Wheat Flour\" , \"Quantity\": 13, \"Weight\" : 1000, \"Price\" : 167, \"Exp Date\" : 15/11/2022},\n",
        "           10202112 : {\"Product\": \"Brown Sugar\" , \"Quantity\": 10, \"Weight\" : 300, \"Price\" : 131, \"Exp Date\" : 10/8/2021},\n",
        "           10202113 : {\"Product\": \"Corn Syrup\" , \"Quantity\": 12, \"Weight\" : 150, \"Price\" : 97, \"Exp Date\" : 10/11/2022},\n",
        "           10202114 : {\"Product\": \"Honey\" , \"Quantity\": 14, \"Weight\" : 150, \"Price\" : 99, \"Exp Date\" : 10/9/2022},\n",
        "           10202115 : {\"Product\": \"Maple Syrup\" , \"Quantity\": 8, \"Weight\" : 150, \"Price\" : 81, \"Exp Date\" : 14/11/2021},\n",
        "           10202116 : {\"Product\": \"Powdered Sugar\" , \"Quantity\": 11, \"Weight\" : 250, \"Price\" : 52, \"Exp Date\" : 10/3/2022},\n",
        "           10202117 : {\"Product\": \"Butter\" , \"Quantity\": 7, \"Weight\" : 300, \"Price\" : 150, \"Exp Date\" : 12/11/2021},\n",
        "           10202118 : {\"Product\": \"Olive Oil\" , \"Quantity\": 16, \"Weight\" : 500, \"Price\" : 200, \"Exp Date\" : 9/9/2022},\n",
        "           10202119 : {\"Product\": \"Salt\" , \"Quantity\": 20, \"Weight\" : 300, \"Price\" : 183, \"Exp Date\" : 14/4/2022},\n",
        "           10202120 : {\"Product\": \"Vineger\" , \"Quantity\": 21, \"Weight\" : 200, \"Price\" : 140, \"Exp Date\" : 10/11/2021},\n",
        "           10202121 : {\"Product\": \"Mayonnaise\" , \"Quantity\": 25, \"Weight\" : 400, \"Price\" : 72, \"Exp Date\" : 8/18/2022},\n",
        "           10202122 : {\"Product\": \"Chocolate Chips\" , \"Quantity\": 33, \"Weight\" : 200, \"Price\" : 170, \"Exp Date\" : 6/9/2021},\n",
        "           10202123 : {\"Product\": \"Cinnamon\" , \"Quantity\": 14, \"Weight\" : 50, \"Price\" : 120, \"Exp Date\" : 5/7/2022},\n",
        "           10202124 : {\"Product\": \"Eggs\" , \"Quantity\": 7, \"Weight\" : 12, \"Price\" : 60, \"Exp Date\" : 10/8/2022},\n",
        "           10202125 : {\"Product\": \"Butter Milk\" , \"Quantity\": 6, \"Weight\" : 100, \"Price\" : 55, \"Exp Date\" : 10/3/202},\n",
        "           10202126 : {\"Product\": \"Rice\" , \"Quantity\": 17, \"Weight\" : 1000, \"Price\" : 50, \"Exp Date\" : 1/1/2022},\n",
        "           10202127 : {\"Product\": \"Peanut Butter\" , \"Quantity\": 19, \"Weight\" : 300, \"Price\" : 150, \"Exp Date\" : 15/3/2022},\n",
        "           10202128 : {\"Product\": \"Caramel Syrup\" , \"Quantity\": 11, \"Weight\" : 150, \"Price\" : 90, \"Exp Date\" : 10/2/2022},\n",
        "           10202129 : {\"Product\": \"Chocolate Syrup\" , \"Quantity\": 14, \"Weight\" : 150, \"Price\" : 100, \"Exp Date\" : 10/4/2022},\n",
        "           10202130 : {\"Product\": \"Shezwan Sauce\" , \"Quantity\": 13, \"Weight\" : 200, \"Price\" : 110, \"Exp Date\" : 16/11/2021},\n",
        "           }"
      ],
      "execution_count": null,
      "outputs": []
    },
    {
      "cell_type": "code",
      "metadata": {
        "id": "snPflYsBZP-I"
      },
      "source": [
        "import json"
      ],
      "execution_count": null,
      "outputs": []
    },
    {
      "cell_type": "code",
      "metadata": {
        "id": "TP8xYotaZTe9"
      },
      "source": [
        "js = json.dumps(record)"
      ],
      "execution_count": null,
      "outputs": []
    },
    {
      "cell_type": "code",
      "metadata": {
        "id": "nS9M12pjZxA-"
      },
      "source": [
        "fd = open(\"record.json\",'r')\n",
        "r = fd.read()\n",
        "fd.close()\n",
        "record = json.loads(r)"
      ],
      "execution_count": null,
      "outputs": []
    },
    {
      "cell_type": "code",
      "metadata": {
        "id": "uCitSPEaaJGW"
      },
      "source": [
        "prod_id = str(input(\"Enter product id:\"))\n",
        "Product = str(input(\"Enter product:\"))\n",
        "quantity = int(input(\"Enter quantity:\"))\n",
        "weight = int(input(\"Enter weight:\"))\n",
        "price = int(input(\"Enter price:\"))\n",
        "exp date = input(\"Enter Date:\")\n"
      ],
      "execution_count": null,
      "outputs": []
    },
    {
      "cell_type": "code",
      "metadata": {
        "id": "YqLPrkHGbwDv"
      },
      "source": [
        "if record[prod_id][Quantity]>0:\n",
        "  record[prod_id][Quantity] = record[prod_id][Quantity] + quantity\n",
        "else:\n",
        "  record[prod_id] = {'Product': Product, 'Quantity': quantity, 'Weight': weight, 'Price' : price , 'Exp Date' : exp date}"
      ],
      "execution_count": null,
      "outputs": []
    },
    {
      "cell_type": "code",
      "metadata": {
        "id": "g9N4gb9ye3in"
      },
      "source": [
        "js = json.dumps(record)\n",
        "fd = open(\"record.json\",'w')\n",
        "fd.write(js)\n",
        "fd.close()"
      ],
      "execution_count": null,
      "outputs": []
    },
    {
      "cell_type": "code",
      "metadata": {
        "id": "FEn0P6Jpfcdl"
      },
      "source": [
        "import json\n",
        "fd = open(\"record.json\",'r')\n",
        "r = fd.read()\n",
        "fd.close()\n",
        "record = json.loads(r)"
      ],
      "execution_count": null,
      "outputs": []
    },
    {
      "cell_type": "code",
      "metadata": {
        "id": "KZyeEtwbfip2"
      },
      "source": [
        "item  = str(input(\"Enter the product_Id: \"))\n",
        "item_quant = int(input(\"Enter the quantity: \"))"
      ],
      "execution_count": null,
      "outputs": []
    },
    {
      "cell_type": "code",
      "metadata": {
        "id": "evAlXJi-gZnW"
      },
      "source": [
        "print(\"Product: \", record[item]['Product'])\n",
        "print(\"Price: \", record[item]['Price'])\n",
        "print(\"Billing Amount: \", record[item]['Price'] * item_quant)"
      ],
      "execution_count": null,
      "outputs": []
    },
    {
      "cell_type": "code",
      "metadata": {
        "id": "u1WntBFOgibc"
      },
      "source": [
        "record[items]['Quantity'] = record[item]['Quantity'] - item_quant"
      ],
      "execution_count": null,
      "outputs": []
    },
    {
      "cell_type": "code",
      "metadata": {
        "id": "cz4ELBndhB4W"
      },
      "source": [
        "js = json.dumps(record)\n",
        "fd = open(\"record.json\",'w')\n",
        "fd.write(js)\n",
        "fd.close()"
      ],
      "execution_count": null,
      "outputs": []
    },
    {
      "cell_type": "code",
      "metadata": {
        "id": "EYmVnCghh7pA"
      },
      "source": [
        "Sales = {1 : {'Product' : item, 'Quantity' : item_quant, 'Amount': record[item]['Price'] * item_quant},\n",
        "         2 : {'Product' : item, 'Quantity' : item_quant, 'Amount': record[item]['Price'] * item_quant},\n",
        "         3 : {'Product' : item, 'Quantity' : item_quant, 'Amount': record[item]['Price'] * item_quant},\n",
        "         4 : {'Product' : item, 'Quantity' : item_quant, 'Amount': record[item]['Price'] * item_quant},\n",
        "         5 : {'Product' : item, 'Quantity' : item_quant, 'Amount': record[item]['Price'] * item_quant},\n",
        "         }"
      ],
      "execution_count": null,
      "outputs": []
    },
    {
      "cell_type": "code",
      "metadata": {
        "id": "L2hEJQ5Ih8FV"
      },
      "source": [
        "j =  json.dumps(Sales)"
      ],
      "execution_count": null,
      "outputs": []
    },
    {
      "cell_type": "code",
      "metadata": {
        "id": "E8jufw0noYy4"
      },
      "source": [
        "fd = open(\"Sales.json\",'r')\n",
        "r = fd.read()\n",
        "fd.close()\n",
        "Sales = json.loads(r)"
      ],
      "execution_count": null,
      "outputs": []
    },
    {
      "cell_type": "code",
      "metadata": {
        "id": "HtN8GHUPn1YK"
      },
      "source": [
        "j = json.dumps(Sales)\n",
        "fd = open(\"Sales.json\",'w')\n",
        "fd.write(s)\n",
        "fd.close()"
      ],
      "execution_count": null,
      "outputs": []
    }
  ]
}